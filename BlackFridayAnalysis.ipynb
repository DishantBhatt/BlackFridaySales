{
 "cells": [
  {
   "cell_type": "markdown",
   "metadata": {},
   "source": [
    "# Imports"
   ]
  },
  {
   "cell_type": "code",
   "execution_count": 1,
   "metadata": {
    "ExecuteTime": {
     "end_time": "2019-03-14T04:59:33.759261Z",
     "start_time": "2019-03-14T04:59:30.860914Z"
    }
   },
   "outputs": [],
   "source": [
    "import pandas as pd\n",
    "import numpy as np\n",
    "import matplotlib.pyplot as plt\n",
    "import seaborn as sns\n",
    "from datetime import datetime, timedelta\n",
    "from tqdm import *"
   ]
  },
  {
   "cell_type": "code",
   "execution_count": 2,
   "metadata": {
    "ExecuteTime": {
     "end_time": "2019-03-14T04:59:35.153599Z",
     "start_time": "2019-03-14T04:59:33.762190Z"
    }
   },
   "outputs": [],
   "source": [
    "df = pd.read_csv(\"BlackFriday.csv\", dtype={'Product_Category_1': 'object','Product_Category_2': 'object','Product_Category_3': 'object', 'Occupation': 'object'})\n",
    "df_og = pd.read_csv(\"BlackFriday.csv\", dtype={'Product_Category_1': 'object','Product_Category_2': 'object','Product_Category_3': 'object', 'Occupation': 'object'})"
   ]
  },
  {
   "cell_type": "code",
   "execution_count": 3,
   "metadata": {
    "ExecuteTime": {
     "end_time": "2019-03-14T04:59:35.177405Z",
     "start_time": "2019-03-14T04:59:35.155463Z"
    }
   },
   "outputs": [
    {
     "data": {
      "text/html": [
       "<div>\n",
       "<style scoped>\n",
       "    .dataframe tbody tr th:only-of-type {\n",
       "        vertical-align: middle;\n",
       "    }\n",
       "\n",
       "    .dataframe tbody tr th {\n",
       "        vertical-align: top;\n",
       "    }\n",
       "\n",
       "    .dataframe thead th {\n",
       "        text-align: right;\n",
       "    }\n",
       "</style>\n",
       "<table border=\"1\" class=\"dataframe\">\n",
       "  <thead>\n",
       "    <tr style=\"text-align: right;\">\n",
       "      <th></th>\n",
       "      <th>User_ID</th>\n",
       "      <th>Product_ID</th>\n",
       "      <th>Gender</th>\n",
       "      <th>Age</th>\n",
       "      <th>Occupation</th>\n",
       "      <th>City_Category</th>\n",
       "      <th>Stay_In_Current_City_Years</th>\n",
       "      <th>Marital_Status</th>\n",
       "      <th>Product_Category_1</th>\n",
       "      <th>Product_Category_2</th>\n",
       "      <th>Product_Category_3</th>\n",
       "      <th>Purchase</th>\n",
       "    </tr>\n",
       "  </thead>\n",
       "  <tbody>\n",
       "    <tr>\n",
       "      <th>0</th>\n",
       "      <td>1000001</td>\n",
       "      <td>P00069042</td>\n",
       "      <td>F</td>\n",
       "      <td>0-17</td>\n",
       "      <td>10</td>\n",
       "      <td>A</td>\n",
       "      <td>2</td>\n",
       "      <td>0</td>\n",
       "      <td>3</td>\n",
       "      <td>NaN</td>\n",
       "      <td>NaN</td>\n",
       "      <td>8370</td>\n",
       "    </tr>\n",
       "    <tr>\n",
       "      <th>1</th>\n",
       "      <td>1000001</td>\n",
       "      <td>P00248942</td>\n",
       "      <td>F</td>\n",
       "      <td>0-17</td>\n",
       "      <td>10</td>\n",
       "      <td>A</td>\n",
       "      <td>2</td>\n",
       "      <td>0</td>\n",
       "      <td>1</td>\n",
       "      <td>6</td>\n",
       "      <td>14</td>\n",
       "      <td>15200</td>\n",
       "    </tr>\n",
       "    <tr>\n",
       "      <th>2</th>\n",
       "      <td>1000001</td>\n",
       "      <td>P00087842</td>\n",
       "      <td>F</td>\n",
       "      <td>0-17</td>\n",
       "      <td>10</td>\n",
       "      <td>A</td>\n",
       "      <td>2</td>\n",
       "      <td>0</td>\n",
       "      <td>12</td>\n",
       "      <td>NaN</td>\n",
       "      <td>NaN</td>\n",
       "      <td>1422</td>\n",
       "    </tr>\n",
       "    <tr>\n",
       "      <th>3</th>\n",
       "      <td>1000001</td>\n",
       "      <td>P00085442</td>\n",
       "      <td>F</td>\n",
       "      <td>0-17</td>\n",
       "      <td>10</td>\n",
       "      <td>A</td>\n",
       "      <td>2</td>\n",
       "      <td>0</td>\n",
       "      <td>12</td>\n",
       "      <td>14</td>\n",
       "      <td>NaN</td>\n",
       "      <td>1057</td>\n",
       "    </tr>\n",
       "    <tr>\n",
       "      <th>4</th>\n",
       "      <td>1000002</td>\n",
       "      <td>P00285442</td>\n",
       "      <td>M</td>\n",
       "      <td>55+</td>\n",
       "      <td>16</td>\n",
       "      <td>C</td>\n",
       "      <td>4+</td>\n",
       "      <td>0</td>\n",
       "      <td>8</td>\n",
       "      <td>NaN</td>\n",
       "      <td>NaN</td>\n",
       "      <td>7969</td>\n",
       "    </tr>\n",
       "  </tbody>\n",
       "</table>\n",
       "</div>"
      ],
      "text/plain": [
       "   User_ID Product_ID Gender   Age Occupation City_Category  \\\n",
       "0  1000001  P00069042      F  0-17         10             A   \n",
       "1  1000001  P00248942      F  0-17         10             A   \n",
       "2  1000001  P00087842      F  0-17         10             A   \n",
       "3  1000001  P00085442      F  0-17         10             A   \n",
       "4  1000002  P00285442      M   55+         16             C   \n",
       "\n",
       "  Stay_In_Current_City_Years  Marital_Status Product_Category_1  \\\n",
       "0                          2               0                  3   \n",
       "1                          2               0                  1   \n",
       "2                          2               0                 12   \n",
       "3                          2               0                 12   \n",
       "4                         4+               0                  8   \n",
       "\n",
       "  Product_Category_2 Product_Category_3  Purchase  \n",
       "0                NaN                NaN      8370  \n",
       "1                  6                 14     15200  \n",
       "2                NaN                NaN      1422  \n",
       "3                 14                NaN      1057  \n",
       "4                NaN                NaN      7969  "
      ]
     },
     "execution_count": 3,
     "metadata": {},
     "output_type": "execute_result"
    }
   ],
   "source": [
    "df.head()"
   ]
  },
  {
   "cell_type": "code",
   "execution_count": 4,
   "metadata": {
    "ExecuteTime": {
     "end_time": "2019-03-14T04:59:35.195362Z",
     "start_time": "2019-03-14T04:59:35.179398Z"
    }
   },
   "outputs": [],
   "source": [
    "df[\"Stay_In_Current_City_Years\"] = df['Stay_In_Current_City_Years'].astype('object')"
   ]
  },
  {
   "cell_type": "markdown",
   "metadata": {},
   "source": [
    "# Exploratory Analysis (Visualization)"
   ]
  },
  {
   "cell_type": "code",
   "execution_count": 5,
   "metadata": {
    "ExecuteTime": {
     "end_time": "2019-03-14T04:59:37.133183Z",
     "start_time": "2019-03-14T04:59:35.199347Z"
    }
   },
   "outputs": [
    {
     "name": "stderr",
     "output_type": "stream",
     "text": [
      "C:\\Users\\DishantBhatt\\Anaconda3\\lib\\site-packages\\seaborn\\axisgrid.py:715: UserWarning: Using the boxplot function without specifying `order` is likely to produce an incorrect plot.\n",
      "  warnings.warn(warning)\n"
     ]
    },
    {
     "data": {
      "text/plain": [
       "<seaborn.axisgrid.FacetGrid at 0x1c356844320>"
      ]
     },
     "execution_count": 5,
     "metadata": {},
     "output_type": "execute_result"
    },
    {
     "data": {
      "image/png": "[encoded data removed]",
      "text/plain": [
       "<Figure size 1080x360 with 3 Axes>"
      ]
     },
     "metadata": {},
     "output_type": "display_data"
    }
   ],
   "source": [
    "df.sort_values('City_Category', inplace=True)\n",
    "g = sns.FacetGrid(df, col = \"City_Category\", height= 5)\n",
    "g.map(sns.boxplot, \"Purchase\", orient = 'v')\n"
   ]
  },
  {
   "cell_type": "code",
   "execution_count": 6,
   "metadata": {
    "ExecuteTime": {
     "end_time": "2019-03-14T04:59:37.280806Z",
     "start_time": "2019-03-14T04:59:37.137170Z"
    }
   },
   "outputs": [
    {
     "data": {
      "text/html": [
       "<div>\n",
       "<style scoped>\n",
       "    .dataframe tbody tr th:only-of-type {\n",
       "        vertical-align: middle;\n",
       "    }\n",
       "\n",
       "    .dataframe tbody tr th {\n",
       "        vertical-align: top;\n",
       "    }\n",
       "\n",
       "    .dataframe thead th {\n",
       "        text-align: right;\n",
       "    }\n",
       "</style>\n",
       "<table border=\"1\" class=\"dataframe\">\n",
       "  <thead>\n",
       "    <tr style=\"text-align: right;\">\n",
       "      <th></th>\n",
       "      <th>Occupation</th>\n",
       "      <th>User_ID</th>\n",
       "      <th>Marital_Status</th>\n",
       "      <th>Purchase</th>\n",
       "    </tr>\n",
       "  </thead>\n",
       "  <tbody>\n",
       "    <tr>\n",
       "      <th>0</th>\n",
       "      <td>0</td>\n",
       "      <td>1.002964e+06</td>\n",
       "      <td>0.417733</td>\n",
       "      <td>9186.946726</td>\n",
       "    </tr>\n",
       "    <tr>\n",
       "      <th>1</th>\n",
       "      <td>1</td>\n",
       "      <td>1.003298e+06</td>\n",
       "      <td>0.476518</td>\n",
       "      <td>9017.703095</td>\n",
       "    </tr>\n",
       "    <tr>\n",
       "      <th>2</th>\n",
       "      <td>10</td>\n",
       "      <td>1.002460e+06</td>\n",
       "      <td>0.057910</td>\n",
       "      <td>9052.836410</td>\n",
       "    </tr>\n",
       "    <tr>\n",
       "      <th>3</th>\n",
       "      <td>11</td>\n",
       "      <td>1.002781e+06</td>\n",
       "      <td>0.382872</td>\n",
       "      <td>9299.467190</td>\n",
       "    </tr>\n",
       "    <tr>\n",
       "      <th>4</th>\n",
       "      <td>12</td>\n",
       "      <td>1.002882e+06</td>\n",
       "      <td>0.467245</td>\n",
       "      <td>9883.052460</td>\n",
       "    </tr>\n",
       "  </tbody>\n",
       "</table>\n",
       "</div>"
      ],
      "text/plain": [
       "  Occupation       User_ID  Marital_Status     Purchase\n",
       "0          0  1.002964e+06        0.417733  9186.946726\n",
       "1          1  1.003298e+06        0.476518  9017.703095\n",
       "2         10  1.002460e+06        0.057910  9052.836410\n",
       "3         11  1.002781e+06        0.382872  9299.467190\n",
       "4         12  1.002882e+06        0.467245  9883.052460"
      ]
     },
     "execution_count": 6,
     "metadata": {},
     "output_type": "execute_result"
    }
   ],
   "source": [
    "df_by_occupation = df.groupby(\"Occupation\").mean().reset_index()\n",
    "df_by_occupation.head()"
   ]
  },
  {
   "cell_type": "code",
   "execution_count": 7,
   "metadata": {
    "ExecuteTime": {
     "end_time": "2019-03-14T04:59:37.725067Z",
     "start_time": "2019-03-14T04:59:37.282776Z"
    }
   },
   "outputs": [
    {
     "data": {
      "text/plain": [
       "<matplotlib.axes._subplots.AxesSubplot at 0x1c357266be0>"
      ]
     },
     "execution_count": 7,
     "metadata": {},
     "output_type": "execute_result"
    },
    {
     "data": {
      "image/png": "[encoded data removed]",
      "text/plain": [
       "<Figure size 504x504 with 1 Axes>"
      ]
     },
     "metadata": {},
     "output_type": "display_data"
    }
   ],
   "source": [
    "sns.set(rc={'figure.figsize':(7,7)})\n",
    "sns.barplot(x = 'Occupation', y = 'Purchase', data= df_by_occupation.sort_values('Occupation'), orient = 'v')"
   ]
  },
  {
   "cell_type": "code",
   "execution_count": 8,
   "metadata": {
    "ExecuteTime": {
     "end_time": "2019-03-14T04:59:37.789809Z",
     "start_time": "2019-03-14T04:59:37.728049Z"
    }
   },
   "outputs": [
    {
     "data": {
      "text/html": [
       "<div>\n",
       "<style scoped>\n",
       "    .dataframe tbody tr th:only-of-type {\n",
       "        vertical-align: middle;\n",
       "    }\n",
       "\n",
       "    .dataframe tbody tr th {\n",
       "        vertical-align: top;\n",
       "    }\n",
       "\n",
       "    .dataframe thead th {\n",
       "        text-align: right;\n",
       "    }\n",
       "</style>\n",
       "<table border=\"1\" class=\"dataframe\">\n",
       "  <thead>\n",
       "    <tr style=\"text-align: right;\">\n",
       "      <th></th>\n",
       "      <th>Occupation</th>\n",
       "      <th>Purchase</th>\n",
       "    </tr>\n",
       "  </thead>\n",
       "  <tbody>\n",
       "    <tr>\n",
       "      <th>9</th>\n",
       "      <td>17</td>\n",
       "      <td>9906.378997</td>\n",
       "    </tr>\n",
       "    <tr>\n",
       "      <th>4</th>\n",
       "      <td>12</td>\n",
       "      <td>9883.052460</td>\n",
       "    </tr>\n",
       "    <tr>\n",
       "      <th>7</th>\n",
       "      <td>15</td>\n",
       "      <td>9866.239925</td>\n",
       "    </tr>\n",
       "    <tr>\n",
       "      <th>19</th>\n",
       "      <td>8</td>\n",
       "      <td>9576.508530</td>\n",
       "    </tr>\n",
       "    <tr>\n",
       "      <th>6</th>\n",
       "      <td>14</td>\n",
       "      <td>9568.536426</td>\n",
       "    </tr>\n",
       "    <tr>\n",
       "      <th>18</th>\n",
       "      <td>7</td>\n",
       "      <td>9502.175276</td>\n",
       "    </tr>\n",
       "    <tr>\n",
       "      <th>8</th>\n",
       "      <td>16</td>\n",
       "      <td>9457.133118</td>\n",
       "    </tr>\n",
       "    <tr>\n",
       "      <th>5</th>\n",
       "      <td>13</td>\n",
       "      <td>9424.449391</td>\n",
       "    </tr>\n",
       "    <tr>\n",
       "      <th>16</th>\n",
       "      <td>5</td>\n",
       "      <td>9388.848978</td>\n",
       "    </tr>\n",
       "    <tr>\n",
       "      <th>17</th>\n",
       "      <td>6</td>\n",
       "      <td>9336.378620</td>\n",
       "    </tr>\n",
       "    <tr>\n",
       "      <th>3</th>\n",
       "      <td>11</td>\n",
       "      <td>9299.467190</td>\n",
       "    </tr>\n",
       "    <tr>\n",
       "      <th>15</th>\n",
       "      <td>4</td>\n",
       "      <td>9279.026742</td>\n",
       "    </tr>\n",
       "    <tr>\n",
       "      <th>14</th>\n",
       "      <td>3</td>\n",
       "      <td>9238.077277</td>\n",
       "    </tr>\n",
       "    <tr>\n",
       "      <th>10</th>\n",
       "      <td>18</td>\n",
       "      <td>9233.671418</td>\n",
       "    </tr>\n",
       "    <tr>\n",
       "      <th>0</th>\n",
       "      <td>0</td>\n",
       "      <td>9186.946726</td>\n",
       "    </tr>\n",
       "    <tr>\n",
       "      <th>2</th>\n",
       "      <td>10</td>\n",
       "      <td>9052.836410</td>\n",
       "    </tr>\n",
       "    <tr>\n",
       "      <th>12</th>\n",
       "      <td>2</td>\n",
       "      <td>9025.938982</td>\n",
       "    </tr>\n",
       "    <tr>\n",
       "      <th>1</th>\n",
       "      <td>1</td>\n",
       "      <td>9017.703095</td>\n",
       "    </tr>\n",
       "    <tr>\n",
       "      <th>13</th>\n",
       "      <td>20</td>\n",
       "      <td>8881.099514</td>\n",
       "    </tr>\n",
       "    <tr>\n",
       "      <th>11</th>\n",
       "      <td>19</td>\n",
       "      <td>8754.249162</td>\n",
       "    </tr>\n",
       "    <tr>\n",
       "      <th>20</th>\n",
       "      <td>9</td>\n",
       "      <td>8714.335934</td>\n",
       "    </tr>\n",
       "  </tbody>\n",
       "</table>\n",
       "</div>"
      ],
      "text/plain": [
       "   Occupation     Purchase\n",
       "9          17  9906.378997\n",
       "4          12  9883.052460\n",
       "7          15  9866.239925\n",
       "19          8  9576.508530\n",
       "6          14  9568.536426\n",
       "18          7  9502.175276\n",
       "8          16  9457.133118\n",
       "5          13  9424.449391\n",
       "16          5  9388.848978\n",
       "17          6  9336.378620\n",
       "3          11  9299.467190\n",
       "15          4  9279.026742\n",
       "14          3  9238.077277\n",
       "10         18  9233.671418\n",
       "0           0  9186.946726\n",
       "2          10  9052.836410\n",
       "12          2  9025.938982\n",
       "1           1  9017.703095\n",
       "13         20  8881.099514\n",
       "11         19  8754.249162\n",
       "20          9  8714.335934"
      ]
     },
     "execution_count": 8,
     "metadata": {},
     "output_type": "execute_result"
    }
   ],
   "source": [
    "occupation_avg_pur = df.groupby('Occupation').agg({'Purchase': 'mean'}).reset_index().sort_values(\n",
    "    'Purchase', ascending = False)\n",
    "occupation_avg_pur"
   ]
  },
  {
   "cell_type": "code",
   "execution_count": 9,
   "metadata": {
    "ExecuteTime": {
     "end_time": "2019-03-14T04:59:38.018652Z",
     "start_time": "2019-03-14T04:59:37.793796Z"
    },
    "code_folding": []
   },
   "outputs": [],
   "source": [
    "df['Age'] = df['Age'].astype('str')\n",
    "df['Age'].replace({'0-17': 'Age Group 1', '18-25': 'Age Group 2', '26-35': 'Age Group 3', '36-45': 'Age Group 3',\n",
    "                  '46-50':'Age Group 3', '51-55': 'Age Group 4', '55+':'Age Group 4'}, inplace = True)"
   ]
  },
  {
   "cell_type": "code",
   "execution_count": 10,
   "metadata": {
    "ExecuteTime": {
     "end_time": "2019-03-14T04:59:40.100512Z",
     "start_time": "2019-03-14T04:59:38.020644Z"
    }
   },
   "outputs": [
    {
     "name": "stderr",
     "output_type": "stream",
     "text": [
      "C:\\Users\\DishantBhatt\\Anaconda3\\lib\\site-packages\\seaborn\\axisgrid.py:715: UserWarning: Using the boxplot function without specifying `order` is likely to produce an incorrect plot.\n",
      "  warnings.warn(warning)\n"
     ]
    },
    {
     "data": {
      "text/plain": [
       "<seaborn.axisgrid.FacetGrid at 0x1c3574c5780>"
      ]
     },
     "execution_count": 10,
     "metadata": {},
     "output_type": "execute_result"
    },
    {
     "data": {
      "image/png": "[encoded data removed]",
      "text/plain": [
       "<Figure size 2016x504 with 4 Axes>"
      ]
     },
     "metadata": {},
     "output_type": "display_data"
    }
   ],
   "source": [
    "sns.set(rc={'figure.figsize':(10,10)})\n",
    "sns.FacetGrid(data= df.sort_values('Age'), col = 'Age', height = 7).map(sns.boxplot, 'Purchase', orient = 'v')"
   ]
  },
  {
   "cell_type": "code",
   "execution_count": 23,
   "metadata": {
    "ExecuteTime": {
     "end_time": "2019-03-14T05:06:11.442740Z",
     "start_time": "2019-03-14T05:06:10.289269Z"
    }
   },
   "outputs": [
    {
     "name": "stderr",
     "output_type": "stream",
     "text": [
      "C:\\Users\\DishantBhatt\\Anaconda3\\lib\\site-packages\\seaborn\\axisgrid.py:715: UserWarning: Using the barplot function without specifying `order` is likely to produce an incorrect plot.\n",
      "  warnings.warn(warning)\n"
     ]
    },
    {
     "data": {
      "text/plain": [
       "<seaborn.axisgrid.FacetGrid at 0x1c36c11d860>"
      ]
     },
     "execution_count": 23,
     "metadata": {},
     "output_type": "execute_result"
    },
    {
     "data": {
      "image/png": "[encoded data removed]",
      "text/plain": [
       "<Figure size 1512x504 with 3 Axes>"
      ]
     },
     "metadata": {},
     "output_type": "display_data"
    }
   ],
   "source": [
    "df_age = df.groupby(['Age', 'City_Category']).agg({'Purchase': 'mean'}).reset_index()\n",
    "sns.FacetGrid(data = df_age.sort_values('Age'), col = 'City_Category', height = 7).map(\n",
    "        sns.barplot, 'Age', 'Purchase'\n",
    ")"
   ]
  },
  {
   "cell_type": "code",
   "execution_count": 11,
   "metadata": {
    "ExecuteTime": {
     "end_time": "2019-03-14T04:59:40.258077Z",
     "start_time": "2019-03-14T04:59:40.102488Z"
    }
   },
   "outputs": [
    {
     "data": {
      "text/html": [
       "<div>\n",
       "<style scoped>\n",
       "    .dataframe tbody tr th:only-of-type {\n",
       "        vertical-align: middle;\n",
       "    }\n",
       "\n",
       "    .dataframe tbody tr th {\n",
       "        vertical-align: top;\n",
       "    }\n",
       "\n",
       "    .dataframe thead th {\n",
       "        text-align: right;\n",
       "    }\n",
       "</style>\n",
       "<table border=\"1\" class=\"dataframe\">\n",
       "  <thead>\n",
       "    <tr style=\"text-align: right;\">\n",
       "      <th></th>\n",
       "      <th>Stay_In_Current_City_Years</th>\n",
       "      <th>User_ID</th>\n",
       "      <th>Marital_Status</th>\n",
       "      <th>Purchase</th>\n",
       "    </tr>\n",
       "  </thead>\n",
       "  <tbody>\n",
       "    <tr>\n",
       "      <th>0</th>\n",
       "      <td>0</td>\n",
       "      <td>1.003020e+06</td>\n",
       "      <td>0.396136</td>\n",
       "      <td>9247.238625</td>\n",
       "    </tr>\n",
       "    <tr>\n",
       "      <th>1</th>\n",
       "      <td>1</td>\n",
       "      <td>1.003036e+06</td>\n",
       "      <td>0.427370</td>\n",
       "      <td>9319.865095</td>\n",
       "    </tr>\n",
       "    <tr>\n",
       "      <th>2</th>\n",
       "      <td>2</td>\n",
       "      <td>1.003060e+06</td>\n",
       "      <td>0.402578</td>\n",
       "      <td>9397.607316</td>\n",
       "    </tr>\n",
       "    <tr>\n",
       "      <th>3</th>\n",
       "      <td>3</td>\n",
       "      <td>1.002877e+06</td>\n",
       "      <td>0.394815</td>\n",
       "      <td>9350.685121</td>\n",
       "    </tr>\n",
       "    <tr>\n",
       "      <th>4</th>\n",
       "      <td>4+</td>\n",
       "      <td>1.002913e+06</td>\n",
       "      <td>0.400717</td>\n",
       "      <td>9346.370158</td>\n",
       "    </tr>\n",
       "  </tbody>\n",
       "</table>\n",
       "</div>"
      ],
      "text/plain": [
       "  Stay_In_Current_City_Years       User_ID  Marital_Status     Purchase\n",
       "0                          0  1.003020e+06        0.396136  9247.238625\n",
       "1                          1  1.003036e+06        0.427370  9319.865095\n",
       "2                          2  1.003060e+06        0.402578  9397.607316\n",
       "3                          3  1.002877e+06        0.394815  9350.685121\n",
       "4                         4+  1.002913e+06        0.400717  9346.370158"
      ]
     },
     "execution_count": 11,
     "metadata": {},
     "output_type": "execute_result"
    }
   ],
   "source": [
    "df_by_stayyears = df_og.groupby('Stay_In_Current_City_Years').mean().reset_index()\n",
    "df_by_stayyears"
   ]
  },
  {
   "cell_type": "code",
   "execution_count": 12,
   "metadata": {
    "ExecuteTime": {
     "end_time": "2019-03-14T04:59:40.567246Z",
     "start_time": "2019-03-14T04:59:40.262063Z"
    }
   },
   "outputs": [
    {
     "data": {
      "text/plain": [
       "<matplotlib.axes._subplots.AxesSubplot at 0x1c357a58400>"
      ]
     },
     "execution_count": 12,
     "metadata": {},
     "output_type": "execute_result"
    },
    {
     "data": {
      "image/png": "[encoded data removed]",
      "text/plain": [
       "<Figure size 504x504 with 1 Axes>"
      ]
     },
     "metadata": {},
     "output_type": "display_data"
    }
   ],
   "source": [
    "sns.set(rc={'figure.figsize':(7,7)})\n",
    "plot = sns.barplot(x = 'Stay_In_Current_City_Years', y = 'Purchase', data = df_by_stayyears)\n",
    "plot.set_title(\"Stay in Current Years vs Purchase\")\n",
    "plot"
   ]
  },
  {
   "cell_type": "code",
   "execution_count": 13,
   "metadata": {
    "ExecuteTime": {
     "end_time": "2019-03-14T04:59:43.014785Z",
     "start_time": "2019-03-14T04:59:40.573231Z"
    }
   },
   "outputs": [
    {
     "data": {
      "text/plain": [
       "<seaborn.axisgrid.FacetGrid at 0x1c357430dd8>"
      ]
     },
     "execution_count": 13,
     "metadata": {},
     "output_type": "execute_result"
    },
    {
     "data": {
      "image/png": "[encoded data removed]",
      "text/plain": [
       "<Figure size 1080x360 with 3 Axes>"
      ]
     },
     "metadata": {},
     "output_type": "display_data"
    }
   ],
   "source": [
    "g = sns.FacetGrid(df, col = \"City_Category\", height= 5)\n",
    "g.map(sns.distplot, \"Purchase\")"
   ]
  },
  {
   "cell_type": "code",
   "execution_count": 14,
   "metadata": {
    "ExecuteTime": {
     "end_time": "2019-03-14T04:59:43.945297Z",
     "start_time": "2019-03-14T04:59:43.017776Z"
    }
   },
   "outputs": [
    {
     "data": {
      "text/plain": [
       "<matplotlib.axes._subplots.AxesSubplot at 0x1c3593393c8>"
      ]
     },
     "execution_count": 14,
     "metadata": {},
     "output_type": "execute_result"
    },
    {
     "data": {
      "image/png": "[encoded data removed]",
      "text/plain": [
       "<Figure size 1080x720 with 2 Axes>"
      ]
     },
     "metadata": {},
     "output_type": "display_data"
    }
   ],
   "source": [
    "gender_pur = df.groupby('Gender').agg({'Purchase':'mean'}).reset_index().rename(\n",
    "    columns = {'Purchase':'AvgPurchase'}).sort_values('Gender', ascending = False)\n",
    "\n",
    "fig, axs = plt.subplots(ncols=2, figsize = (15,10))\n",
    "axs[0].set_title('Number of Purchases by Gender')\n",
    "axs[1].set_title('Average Purchase for Each Gender')\n",
    "sns.countplot(df['Gender'], ax = axs[0])\n",
    "sns.barplot(x = 'Gender', y = 'AvgPurchase', data = gender_pur, ax = axs[1])\n"
   ]
  },
  {
   "cell_type": "code",
   "execution_count": 33,
   "metadata": {
    "ExecuteTime": {
     "end_time": "2019-03-14T05:17:27.024881Z",
     "start_time": "2019-03-14T05:17:26.777882Z"
    }
   },
   "outputs": [
    {
     "data": {
      "text/plain": [
       "<matplotlib.axes._subplots.AxesSubplot at 0x1c36b527f60>"
      ]
     },
     "execution_count": 33,
     "metadata": {},
     "output_type": "execute_result"
    },
    {
     "data": {
      "image/png": "[encoded data removed]",
      "text/plain": [
       "<Figure size 720x720 with 1 Axes>"
      ]
     },
     "metadata": {},
     "output_type": "display_data"
    }
   ],
   "source": [
    "df_mar = df.groupby(['Marital_Status']).mean().reset_index()\n",
    "\n",
    "fig, axs = plt.subplots(figsize = (10,10))\n",
    "axs.set_yticklabels(df_mar['Marital_Status'], minor=False)\n",
    "sns.barplot(x= 'Marital_Status', y = 'Purchase', data = df_mar, ax= axs )"
   ]
  },
  {
   "cell_type": "markdown",
   "metadata": {},
   "source": [
    "# Exploratory Analysis (Stats)"
   ]
  },
  {
   "cell_type": "code",
   "execution_count": 34,
   "metadata": {
    "ExecuteTime": {
     "end_time": "2019-03-14T05:47:37.919604Z",
     "start_time": "2019-03-14T05:47:37.894631Z"
    }
   },
   "outputs": [],
   "source": [
    "import researchpy as rp\n",
    "from scipy import stats"
   ]
  },
  {
   "cell_type": "code",
   "execution_count": 44,
   "metadata": {
    "ExecuteTime": {
     "end_time": "2019-03-14T06:04:25.381926Z",
     "start_time": "2019-03-14T06:04:25.172696Z"
    }
   },
   "outputs": [
    {
     "name": "stdout",
     "output_type": "stream",
     "text": [
      "LeveneResult(statistic=1850.2529347343086, pvalue=0.0)\n"
     ]
    }
   ],
   "source": [
    "df_F = df[df.Gender == 'F']\n",
    "df_M = df[df.Gender == 'M']\n",
    "\n",
    "print(stats.levene(df_F.Purchase, df_M.Purchase))\n"
   ]
  },
  {
   "cell_type": "code",
   "execution_count": 43,
   "metadata": {
    "ExecuteTime": {
     "end_time": "2019-03-14T06:04:01.146708Z",
     "start_time": "2019-03-14T06:04:01.132776Z"
    }
   },
   "outputs": [
    {
     "data": {
      "text/plain": [
       "0.0"
      ]
     },
     "execution_count": 43,
     "metadata": {},
     "output_type": "execute_result"
    }
   ],
   "source": [
    "s, p = stats.ttest_ind(df_M.Purchase, df_F.Purchase, equal_var= False)\n",
    "p"
   ]
  },
  {
   "cell_type": "markdown",
   "metadata": {},
   "source": [
    "# 20/80 Rule"
   ]
  },
  {
   "cell_type": "markdown",
   "metadata": {},
   "source": [
    "<h4> The 20/80 rule when applied to marketing/sales implies that 20% of consumers are responsible for 80% of the sales. </h4> \n",
    "<p> I want to see if this trend applies to this dataset. I want to take a look at the top twenty percent of consumers and find out what portion of sales they make up. </p>\n",
    "\n",
    "We will look at this with sales as a whole and then by city (Cities A & B have numerous outliers it might be beneficial to look at them seperately).\n",
    "\n",
    "First lets take a look at the box plot for overall sales. Then we will:\n",
    "<ol>\n",
    "    <li> Get 20% of the top consumers and find out how much money they spent. </li>\n",
    "    <li> Determine what percent of total sales the top 20 make up. </li>\n",
    "    </ol>\n",
    "   "
   ]
  },
  {
   "cell_type": "code",
   "execution_count": null,
   "metadata": {
    "ExecuteTime": {
     "end_time": "2019-03-14T04:59:45.311643Z",
     "start_time": "2019-03-14T04:59:30.934Z"
    }
   },
   "outputs": [],
   "source": [
    "sns.boxplot(x = 'Purchase', data = df, orient='v')"
   ]
  },
  {
   "cell_type": "code",
   "execution_count": null,
   "metadata": {
    "ExecuteTime": {
     "end_time": "2019-03-14T04:59:45.313637Z",
     "start_time": "2019-03-14T04:59:30.937Z"
    }
   },
   "outputs": [],
   "source": [
    "df.sort_values(\"Purchase\", ascending = False, inplace=True)\n",
    "top_20_sales = sum(df.nlargest(round(len(df.Purchase) * .2),'Purchase').Purchase)"
   ]
  },
  {
   "cell_type": "code",
   "execution_count": null,
   "metadata": {
    "ExecuteTime": {
     "end_time": "2019-03-14T04:59:45.314635Z",
     "start_time": "2019-03-14T04:59:30.941Z"
    }
   },
   "outputs": [],
   "source": [
    "top_20_sales/sum(df.Purchase)"
   ]
  },
  {
   "cell_type": "markdown",
   "metadata": {},
   "source": [
    "<h1> 20% of the top purchases account for <strong>37.34%</strong> of all sales </h1>\n",
    "<br>\n",
    "    <p>Not nearly 80% of all sales, however, still a large chunk of sales </p>\n",
    "    Next we will:\n",
    "    <ul>\n",
    "    <li>Look at the cities individually. </li>\n",
    "\n",
    "    \n",
    "    \n"
   ]
  },
  {
   "cell_type": "code",
   "execution_count": null,
   "metadata": {
    "ExecuteTime": {
     "end_time": "2019-03-14T04:59:45.315632Z",
     "start_time": "2019-03-14T04:59:30.947Z"
    }
   },
   "outputs": [],
   "source": [
    "city_A = df.loc[df.City_Category == 'A',:]\n",
    "plot = sns.boxplot(x = 'Purchase', orient = 'v', data = city_A)\n",
    "plot.set_title(\"City_A Purchases\")\n",
    "\n",
    "top_20cityA_sales = sum(city_A.nlargest(round(len(city_A.Purchase) * .2),'Purchase').Purchase)\n",
    "top_20cityA_sales/sum(city_A.Purchase)"
   ]
  },
  {
   "cell_type": "code",
   "execution_count": null,
   "metadata": {
    "ExecuteTime": {
     "end_time": "2019-03-14T04:59:45.316629Z",
     "start_time": "2019-03-14T04:59:30.952Z"
    }
   },
   "outputs": [],
   "source": [
    "city_B = df.loc[df.City_Category == 'B',:]\n",
    "plot = sns.boxplot(x = 'Purchase', orient = 'v', data = city_B)\n",
    "plot.set_title(\"City_B Purchases\")\n",
    "\n",
    "top_20cityB_sales = sum(city_B.nlargest(round(len(city_B.Purchase) * .2),'Purchase').Purchase)\n",
    "top_20cityB_sales/sum(city_B.Purchase)"
   ]
  },
  {
   "cell_type": "code",
   "execution_count": null,
   "metadata": {
    "ExecuteTime": {
     "end_time": "2019-03-14T04:59:45.317625Z",
     "start_time": "2019-03-14T04:59:30.960Z"
    }
   },
   "outputs": [],
   "source": [
    "city_C = df.loc[df.City_Category == 'C',:]\n",
    "plot = sns.boxplot(x = 'Purchase', orient = 'v', data = city_C)\n",
    "plot.set_title(\"City_C Purchases\")\n",
    "\n",
    "top_20cityC_sales = sum(city_C.nlargest(round(len(city_C.Purchase) * .2),'Purchase').Purchase)\n",
    "top_20cityC_sales/sum(city_C.Purchase)"
   ]
  },
  {
   "cell_type": "markdown",
   "metadata": {},
   "source": [
    "<p>The top 20% of sales for cities A and B do account for a slightly higher chunk of their total sales, however, the chunk was not as big as I expected. <br>\n",
    "    What I did expect was City_C to be lower than both because of its lack of outliers and it was. </p>"
   ]
  }
 ],
 "metadata": {
  "kernelspec": {
   "display_name": "Python 3",
   "language": "python",
   "name": "python3"
  },
  "language_info": {
   "codemirror_mode": {
    "name": "ipython",
    "version": 3
   },
   "file_extension": ".py",
   "mimetype": "text/x-python",
   "name": "python",
   "nbconvert_exporter": "python",
   "pygments_lexer": "ipython3",
   "version": "3.6.5"
  }
 },
 "nbformat": 4,
 "nbformat_minor": 2
}
